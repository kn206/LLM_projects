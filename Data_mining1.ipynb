{
  "nbformat": 4,
  "nbformat_minor": 0,
  "metadata": {
    "colab": {
      "provenance": [],
      "authorship_tag": "ABX9TyONNeM2fnuGmBs8WG+W7SUe",
      "include_colab_link": true
    },
    "kernelspec": {
      "name": "python3",
      "display_name": "Python 3"
    },
    "language_info": {
      "name": "python"
    }
  },
  "cells": [
    {
      "cell_type": "markdown",
      "metadata": {
        "id": "view-in-github",
        "colab_type": "text"
      },
      "source": [
        "<a href=\"https://colab.research.google.com/github/kn206/LLM_projects/blob/main/Data_mining1.ipynb\" target=\"_parent\"><img src=\"https://colab.research.google.com/assets/colab-badge.svg\" alt=\"Open In Colab\"/></a>"
      ]
    },
    {
      "cell_type": "markdown",
      "source": [
        "**a)Calculate Mean and Standard Deviation**"
      ],
      "metadata": {
        "id": "VjUmGA6qfRQs"
      }
    },
    {
      "cell_type": "code",
      "execution_count": 1,
      "metadata": {
        "colab": {
          "base_uri": "https://localhost:8080/"
        },
        "id": "kj0G1pBDeekH",
        "outputId": "9602894d-b308-4784-cf14-38a8b66d0365"
      },
      "outputs": [
        {
          "output_type": "stream",
          "name": "stdout",
          "text": [
            "Mean pH: 7.42\n",
            "Mean Temperature: 48.50\n",
            "Standard Deviation of pH: 0.70\n",
            "Standard Deviation of Temperature: 9.45\n"
          ]
        }
      ],
      "source": [
        "import numpy as np\n",
        "\n",
        "# Define the dataset\n",
        "data = np.array([[1, 6.6, 35],\n",
        "                 [2, 7.1, 45],\n",
        "                 [3, 8.5, 60],\n",
        "                 [4, 7.5, 54]])\n",
        "\n",
        "# Extract the pH and Temperature columns\n",
        "pH = data[:, 1]\n",
        "temperature = data[:, 2]\n",
        "\n",
        "# Calculate the mean pH and mean Temperature\n",
        "mean_pH = np.mean(pH)\n",
        "mean_temperature = np.mean(temperature)\n",
        "\n",
        "# Calculate the standard deviation of pH and Temperature\n",
        "std_pH = np.std(pH)\n",
        "std_temperature = np.std(temperature)\n",
        "\n",
        "print(f\"Mean pH: {mean_pH:.2f}\")\n",
        "print(f\"Mean Temperature: {mean_temperature:.2f}\")\n",
        "print(f\"Standard Deviation of pH: {std_pH:.2f}\")\n",
        "print(f\"Standard Deviation of Temperature: {std_temperature:.2f}\")\n"
      ]
    },
    {
      "cell_type": "markdown",
      "source": [
        "**b) Normalize the Records**"
      ],
      "metadata": {
        "id": "_CM80J5Ogekt"
      }
    },
    {
      "cell_type": "code",
      "source": [
        "# Normalize the records using the standardization formula\n",
        "normalized_data = (data[:, 1:] - np.mean(data[:, 1:], axis=0)) / np.std(data[:, 1:], axis=0)\n",
        "\n",
        "print(\"Normalized Data:\")\n",
        "print(normalized_data)\n"
      ],
      "metadata": {
        "colab": {
          "base_uri": "https://localhost:8080/"
        },
        "id": "R2cfw7FIgh7h",
        "outputId": "8df0952a-f00c-40d5-fa0a-ef4fc359a159"
      },
      "execution_count": 2,
      "outputs": [
        {
          "output_type": "stream",
          "name": "stdout",
          "text": [
            "Normalized Data:\n",
            "[[-1.1823477  -1.42899153]\n",
            " [-0.46577334 -0.37047929]\n",
            " [ 1.54063488  1.21728909]\n",
            " [ 0.10748615  0.58218174]]\n"
          ]
        }
      ]
    },
    {
      "cell_type": "markdown",
      "source": [
        "**c) Compute\tthe two correlation values between\tthe\ttwo\tattributes using\tnormalized\tdata\tand\n",
        "original\tdata,\tseparately.\t(2\tpoints) What\tdid\tyou\tobserve for\tthe\ttwo\tvalues?\tWhat\tcan\tyou\n",
        "say about\tthe linear\trelationship of\tthe\ttwo\tattributes?**"
      ],
      "metadata": {
        "id": "CAqgIOOUg52o"
      }
    },
    {
      "cell_type": "code",
      "source": [
        "# Compute the correlation values between the two attributes using normalized data\n",
        "correlation_normalized = np.corrcoef(normalized_data[:, 0], normalized_data[:, 1])[0, 1]\n",
        "\n",
        "# Compute the correlation values between the two attributes using original data\n",
        "correlation_original = np.corrcoef(data[:, 1], data[:, 2])[0, 1]\n",
        "\n",
        "print(f\"Correlation (Normalized Data): {correlation_normalized:.2f}\")\n",
        "print(f\"Correlation (Original Data): {correlation_original:.2f}\")\n"
      ],
      "metadata": {
        "colab": {
          "base_uri": "https://localhost:8080/"
        },
        "id": "JPqkcVoGhG_t",
        "outputId": "464469cb-4b05-4090-b2d5-26657fbc126f"
      },
      "execution_count": 3,
      "outputs": [
        {
          "output_type": "stream",
          "name": "stdout",
          "text": [
            "Correlation (Normalized Data): 0.95\n",
            "Correlation (Original Data): 0.95\n"
          ]
        }
      ]
    },
    {
      "cell_type": "markdown",
      "source": [
        "**d) Center the Data and Compute Correlation**"
      ],
      "metadata": {
        "id": "XlRTIV8siWT7"
      }
    },
    {
      "cell_type": "code",
      "source": [
        "# Perform centering on the original data\n",
        "centered_data = data[:, 1:] - np.mean(data[:, 1:], axis=0)\n",
        "\n",
        "# Compute the correlation value for the centered data\n",
        "correlation_centered = np.corrcoef(centered_data[:, 0], centered_data[:, 1])[0, 1]\n",
        "\n",
        "print(f\"Correlation (Centered Data): {correlation_centered:.2f}\")\n"
      ],
      "metadata": {
        "colab": {
          "base_uri": "https://localhost:8080/"
        },
        "id": "nBp1UwaVibBX",
        "outputId": "2a44b46e-6118-41c6-f2ca-fa98d06e7d6e"
      },
      "execution_count": 4,
      "outputs": [
        {
          "output_type": "stream",
          "name": "stdout",
          "text": [
            "Correlation (Centered Data): 0.95\n"
          ]
        }
      ]
    },
    {
      "cell_type": "markdown",
      "source": [
        "**3. Compute the\t(i)\tManhattan\tDistance\t(same\tas\tHamming\tdistance),\t(ii)\tJaccard\tsimilarity,\n",
        "(iii)\tSimple\tMatching\tCoefficient,\t(iv)\tEuclidean\tDistance,\t(v)\tcosine\tmeasure\tfor\tX\t=\t[1 1 0 0\t1 1\t0\t1 1\t1]\n",
        "Y\t=\t[0\t0 1 0\t1 0 1\t1\t0\t0]. **"
      ],
      "metadata": {
        "id": "7meZL_RujpOA"
      }
    },
    {
      "cell_type": "code",
      "source": [
        "import numpy as np\n",
        "\n",
        "# Define vectors X and Y\n",
        "X = np.array([1, 1, 0, 0, 1, 1, 0, 1, 1, 1])\n",
        "Y = np.array([0, 0, 1, 0, 1, 0, 1, 1, 0, 0])"
      ],
      "metadata": {
        "id": "IkjX3ni3j3I4"
      },
      "execution_count": 5,
      "outputs": []
    },
    {
      "cell_type": "code",
      "source": [
        "# (i) Manhattan Distance (Same as Hamming Distance)\n",
        "manhattan_distance = np.sum(np.abs(X - Y))\n",
        "print(f\"Manhattan Distance: {manhattan_distance}\")"
      ],
      "metadata": {
        "colab": {
          "base_uri": "https://localhost:8080/"
        },
        "id": "j49_mLTVj_W4",
        "outputId": "2e0ed550-af70-4ed6-800e-0a3d45d39ca1"
      },
      "execution_count": 6,
      "outputs": [
        {
          "output_type": "stream",
          "name": "stdout",
          "text": [
            "Manhattan Distance: 7\n"
          ]
        }
      ]
    },
    {
      "cell_type": "code",
      "source": [
        "# (ii) Jaccard Similarity\n",
        "intersection = np.sum(np.logical_and(X, Y))\n",
        "union = np.sum(np.logical_or(X, Y))\n",
        "jaccard_similarity = intersection / union\n",
        "print(f\"Jaccard Similarity: {jaccard_similarity}\")"
      ],
      "metadata": {
        "colab": {
          "base_uri": "https://localhost:8080/"
        },
        "id": "qIonHtlHkAUk",
        "outputId": "291a269e-fbf5-4c3b-a1fa-3d99fe9348fb"
      },
      "execution_count": 7,
      "outputs": [
        {
          "output_type": "stream",
          "name": "stdout",
          "text": [
            "Jaccard Similarity: 0.2222222222222222\n"
          ]
        }
      ]
    },
    {
      "cell_type": "code",
      "source": [
        "# (iii) Simple Matching Coefficient\n",
        "matching_coefficient = np.sum(np.logical_and(X, Y)) / len(X)\n",
        "print(f\"Simple Matching Coefficient: {matching_coefficient}\")"
      ],
      "metadata": {
        "colab": {
          "base_uri": "https://localhost:8080/"
        },
        "id": "M699UikykD20",
        "outputId": "7c0e6c28-d7df-432f-abf6-5b95609e24b1"
      },
      "execution_count": 8,
      "outputs": [
        {
          "output_type": "stream",
          "name": "stdout",
          "text": [
            "Simple Matching Coefficient: 0.2\n"
          ]
        }
      ]
    },
    {
      "cell_type": "code",
      "source": [
        "\n",
        "# (iv) Euclidean Distance\n",
        "euclidean_distance = np.sqrt(np.sum((X - Y) ** 2))\n",
        "print(f\"Euclidean Distance: {euclidean_distance}\")\n"
      ],
      "metadata": {
        "colab": {
          "base_uri": "https://localhost:8080/"
        },
        "id": "6U-35idckG5V",
        "outputId": "ea25a3f2-58c2-4251-cac2-150d1abec234"
      },
      "execution_count": 9,
      "outputs": [
        {
          "output_type": "stream",
          "name": "stdout",
          "text": [
            "Euclidean Distance: 2.6457513110645907\n"
          ]
        }
      ]
    },
    {
      "cell_type": "code",
      "source": [
        "# (v) Cosine Measure\n",
        "dot_product = np.dot(X, Y)\n",
        "norm_X = np.linalg.norm(X)\n",
        "norm_Y = np.linalg.norm(Y)\n",
        "cosine_measure = dot_product / (norm_X * norm_Y)\n",
        "print(f\"Cosine Measure: {cosine_measure}\")\n"
      ],
      "metadata": {
        "colab": {
          "base_uri": "https://localhost:8080/"
        },
        "id": "Kf-oArK1kJ57",
        "outputId": "3c9f2085-5dca-4ec5-97e3-30a2ca482ef7"
      },
      "execution_count": 10,
      "outputs": [
        {
          "output_type": "stream",
          "name": "stdout",
          "text": [
            "Cosine Measure: 0.3779644730092272\n"
          ]
        }
      ]
    },
    {
      "cell_type": "markdown",
      "source": [
        " **Based\ton\tthe\ttable\tbelow.\tCompute\tthe\tmutual\tinformation\tof\ttemperature\tand\trainfall. According\tto\tthe\tcomputed\tmutual\tinformation,\twhat\tdo\tyou\tthink\tis\tthe\n",
        "relationship\tbetween\ttemperature\tand\trainfall?**"
      ],
      "metadata": {
        "id": "KRQvA8dumWRB"
      }
    },
    {
      "cell_type": "code",
      "source": [
        "import numpy as np\n",
        "from scipy.stats import entropy\n",
        "\n",
        "# Define the data in the table\n",
        "temperature = np.array([\"High\", \"High\", \"High\", \"Low\", \"Low\", \"Low\"])\n",
        "rainfall = np.array([\"No\", \"Low\", \"High\", \"No\", \"Low\", \"High\"])\n",
        "\n",
        "# Calculate the joint probability distribution\n",
        "joint_probs = np.zeros((2, 2))\n",
        "\n",
        "for i in range(2):\n",
        "    for j in range(2):\n",
        "        joint_probs[i, j] = np.sum((temperature == [\"High\", \"Low\"][i]) & (rainfall == [\"No\", \"Low\", \"High\"][j]))\n",
        "\n",
        "joint_probs /= len(temperature)\n",
        "\n",
        "# Calculate the marginal probabilities\n",
        "marginal_temperature = np.sum(joint_probs, axis=1)\n",
        "marginal_rainfall = np.sum(joint_probs, axis=0)\n",
        "\n",
        "# Calculate the mutual information\n",
        "mutual_info = 0\n",
        "\n",
        "for i in range(2):\n",
        "    for j in range(2):\n",
        "        if joint_probs[i, j] > 0:\n",
        "            mutual_info += joint_probs[i, j] * np.log(joint_probs[i, j] / (marginal_temperature[i] * marginal_rainfall[j]))\n",
        "\n",
        "mutual_info = mutual_info / np.log(2)  # Convert to bits\n",
        "\n",
        "print(f\"Mutual Information: {mutual_info:.2f} bits\")\n"
      ],
      "metadata": {
        "colab": {
          "base_uri": "https://localhost:8080/"
        },
        "id": "Y6FlAGTsmjRD",
        "outputId": "7d237c95-e244-45cf-8a1e-4a085c685943"
      },
      "execution_count": 11,
      "outputs": [
        {
          "output_type": "stream",
          "name": "stdout",
          "text": [
            "Mutual Information: 0.39 bits\n"
          ]
        }
      ]
    }
  ]
}